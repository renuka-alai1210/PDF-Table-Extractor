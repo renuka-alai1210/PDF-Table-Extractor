{
  "nbformat": 4,
  "nbformat_minor": 0,
  "metadata": {
    "colab": {
      "provenance": []
    },
    "kernelspec": {
      "name": "python3",
      "display_name": "Python 3"
    },
    "language_info": {
      "name": "python"
    }
  },
  "cells": [
    {
      "cell_type": "code",
      "execution_count": null,
      "metadata": {
        "id": "SAh-bNnVn4Oe"
      },
      "outputs": [],
      "source": [
        "import os\n",
        "import camelot\n",
        "import json\n",
        "from PyPDF2 import PdfReader"
      ]
    },
    {
      "cell_type": "code",
      "source": [
        "\n",
        "def extract_table_details(pdf_path):\n",
        "    tables_info = {\"tables\": []}\n",
        "\n",
        "    try:\n",
        "        tables = camelot.read_pdf(pdf_path, pages='all')\n",
        "        print(f\"Found {len(tables)} table(s) in {os.path.basename(pdf_path)}.\")\n",
        "\n",
        "        for table_idx, table in enumerate(tables):\n",
        "            # Extract the bounding box coordinates\n",
        "            bbox = table._bbox\n",
        "            rows, cols = table.shape\n",
        "\n",
        "            table_info = {\n",
        "                \"coordinates\": {\n",
        "                    \"x1\": bbox[0],\n",
        "                    \"y1\": bbox[1],\n",
        "                    \"x2\": bbox[2],\n",
        "                    \"y2\": bbox[3]\n",
        "                },\n",
        "                \"rows\": rows,\n",
        "                \"columns\": cols\n",
        "            }\n",
        "            tables_info[\"tables\"].append(table_info)\n",
        "    except Exception as e:\n",
        "        print(f\"An error occurred while processing {os.path.basename(pdf_path)}: {e}\")\n",
        "\n",
        "    return tables_info\n",
        "\n"
      ],
      "metadata": {
        "id": "3lPBDWDYn-VC"
      },
      "execution_count": null,
      "outputs": []
    },
    {
      "cell_type": "code",
      "source": [
        "def process_pdfs(input_folder, json_folder, details_folder):\n",
        "    # Create folders if they don't exist\n",
        "    os.makedirs(json_folder, exist_ok=True)\n",
        "    os.makedirs(details_folder, exist_ok=True)\n",
        "\n",
        "    for pdf_filename in os.listdir(input_folder):\n",
        "        if pdf_filename.endswith('.pdf'):\n",
        "            pdf_path = os.path.join(input_folder, pdf_filename)\n",
        "            table_details = extract_table_details(pdf_path)\n",
        "\n",
        "            # Save the table details to a JSON file\n",
        "            json_filename = pdf_filename.replace('.pdf', '_table_details.json')\n",
        "            json_path = os.path.join(details_folder, json_filename)\n",
        "            with open(json_path, \"w\") as json_file:\n",
        "                json.dump(table_details, json_file, indent=4)\n",
        "\n",
        "            print(f\"Saved table details for {pdf_filename} to {json_path}.\")\n"
      ],
      "metadata": {
        "id": "kt0oS0PgoJal"
      },
      "execution_count": null,
      "outputs": []
    },
    {
      "cell_type": "code",
      "source": [
        "if __name__ == \"__main__\":\n",
        "    input_folder = \"input_folder\"\n",
        "    json_folder = \"json_folder\"\n",
        "    details_folder = \"output_folder\"\n",
        "\n",
        "    process_pdfs(input_folder, json_folder, details_folder)\n"
      ],
      "metadata": {
        "id": "IdAgMZZUoMH0"
      },
      "execution_count": null,
      "outputs": []
    }
  ]
}